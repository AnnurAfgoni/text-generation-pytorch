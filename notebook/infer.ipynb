{
 "cells": [
  {
   "cell_type": "code",
   "execution_count": 1,
   "metadata": {},
   "outputs": [],
   "source": [
    "import sys\n",
    "sys.path.append(\"src\")"
   ]
  },
  {
   "cell_type": "code",
   "execution_count": 2,
   "metadata": {},
   "outputs": [],
   "source": [
    "import torch\n",
    "\n",
    "from char_rnn.model import CharRNN\n",
    "from char_rnn.infer import InferenceModule"
   ]
  },
  {
   "cell_type": "code",
   "execution_count": 3,
   "metadata": {},
   "outputs": [],
   "source": [
    "with open(\"data/anna.txt\", \"r\") as f:\n",
    "    text = f.read()\n",
    "\n",
    "tokens = tuple(set(text))\n",
    "\n",
    "int2char = {i: ch for i, ch in enumerate(tokens)}\n",
    "char2int = {ch: i for i, ch in int2char.items()}"
   ]
  },
  {
   "cell_type": "code",
   "execution_count": 4,
   "metadata": {},
   "outputs": [
    {
     "data": {
      "text/plain": [
       "CharRNN(\n",
       "  (lstm): LSTM(83, 256, num_layers=2, batch_first=True, dropout=0.5)\n",
       "  (dropout): Dropout(p=0.5, inplace=False)\n",
       "  (fc): Linear(in_features=256, out_features=83, bias=True)\n",
       ")"
      ]
     },
     "execution_count": 4,
     "metadata": {},
     "output_type": "execute_result"
    }
   ],
   "source": [
    "model = CharRNN(tokens)\n",
    "model"
   ]
  },
  {
   "cell_type": "code",
   "execution_count": 5,
   "metadata": {},
   "outputs": [
    {
     "data": {
      "text/plain": [
       "OrderedDict([('lstm.weight_ih_l0',\n",
       "              tensor([[-0.0187,  0.0510, -0.0024,  ...,  0.0447, -0.0341,  0.0451],\n",
       "                      [ 0.0327,  0.0398,  0.0088,  ...,  0.0068, -0.0435, -0.0376],\n",
       "                      [ 0.0374,  0.0513, -0.0488,  ...,  0.0312, -0.0026, -0.0581],\n",
       "                      ...,\n",
       "                      [-0.0445,  0.0274,  0.0330,  ..., -0.0020, -0.0230,  0.0068],\n",
       "                      [ 0.0208, -0.0154, -0.0294,  ...,  0.0179,  0.0614, -0.0599],\n",
       "                      [ 0.0373,  0.0123, -0.0008,  ...,  0.0290,  0.0026,  0.0302]])),\n",
       "             ('lstm.weight_hh_l0',\n",
       "              tensor([[-0.0312,  0.0475,  0.0510,  ...,  0.0010,  0.0533, -0.0043],\n",
       "                      [-0.0532,  0.0014,  0.0348,  ..., -0.0518,  0.0106,  0.0123],\n",
       "                      [-0.0525,  0.0607,  0.0073,  ..., -0.0388,  0.0341,  0.0406],\n",
       "                      ...,\n",
       "                      [-0.0415, -0.0282,  0.0414,  ..., -0.0131,  0.0567,  0.0470],\n",
       "                      [ 0.0201, -0.0053,  0.0213,  ...,  0.0113,  0.0153, -0.0593],\n",
       "                      [ 0.0561,  0.0316, -0.0440,  ..., -0.0342, -0.0579,  0.0008]])),\n",
       "             ('lstm.bias_ih_l0',\n",
       "              tensor([ 0.0333,  0.0396, -0.0264,  ...,  0.0273, -0.0449, -0.0200])),\n",
       "             ('lstm.bias_hh_l0',\n",
       "              tensor([-0.0205,  0.0080,  0.0540,  ...,  0.0317,  0.0401,  0.0562])),\n",
       "             ('lstm.weight_ih_l1',\n",
       "              tensor([[-0.0023, -0.0113, -0.0350,  ...,  0.0358,  0.0381, -0.0344],\n",
       "                      [-0.0619,  0.0151, -0.0608,  ..., -0.0615,  0.0407, -0.0035],\n",
       "                      [ 0.0003,  0.0085,  0.0078,  ...,  0.0354,  0.0040,  0.0610],\n",
       "                      ...,\n",
       "                      [-0.0229, -0.0550, -0.0407,  ...,  0.0336,  0.0621, -0.0593],\n",
       "                      [-0.0446,  0.0174,  0.0330,  ...,  0.0482,  0.0421,  0.0494],\n",
       "                      [-0.0240,  0.0563,  0.0123,  ..., -0.0465, -0.0443, -0.0123]])),\n",
       "             ('lstm.weight_hh_l1',\n",
       "              tensor([[ 0.0408,  0.0087, -0.0529,  ..., -0.0091, -0.0345, -0.0485],\n",
       "                      [-0.0330,  0.0488,  0.0591,  ..., -0.0164, -0.0099,  0.0544],\n",
       "                      [ 0.0136,  0.0056,  0.0205,  ..., -0.0102, -0.0055, -0.0135],\n",
       "                      ...,\n",
       "                      [-0.0341,  0.0215,  0.0088,  ...,  0.0614,  0.0335, -0.0570],\n",
       "                      [ 0.0340, -0.0095, -0.0384,  ...,  0.0380,  0.0175,  0.0022],\n",
       "                      [ 0.0404, -0.0547, -0.0400,  ..., -0.0018,  0.0557, -0.0146]])),\n",
       "             ('lstm.bias_ih_l1',\n",
       "              tensor([ 0.0281, -0.0556, -0.0069,  ...,  0.0027, -0.0491, -0.0562])),\n",
       "             ('lstm.bias_hh_l1',\n",
       "              tensor([-0.0192,  0.0344, -0.0368,  ...,  0.0461, -0.0041,  0.0008])),\n",
       "             ('fc.weight',\n",
       "              tensor([[ 0.0044, -0.0385, -0.0589,  ...,  0.0621, -0.0142, -0.0410],\n",
       "                      [-0.0334,  0.0313, -0.0222,  ..., -0.0552, -0.0234, -0.0246],\n",
       "                      [ 0.0044, -0.0118, -0.0052,  ...,  0.0033, -0.0265, -0.0381],\n",
       "                      ...,\n",
       "                      [-0.0082, -0.0475,  0.0073,  ...,  0.0512, -0.0493,  0.0247],\n",
       "                      [ 0.0585, -0.0200, -0.0561,  ...,  0.0180,  0.0503, -0.0318],\n",
       "                      [ 0.0295, -0.0200, -0.0347,  ...,  0.0063,  0.0217,  0.0370]])),\n",
       "             ('fc.bias',\n",
       "              tensor([-0.0288, -0.0469,  0.0555,  0.0055,  0.0340,  0.0096, -0.0199, -0.0606,\n",
       "                       0.0185, -0.0062,  0.0393, -0.0224,  0.0296,  0.0075,  0.0525, -0.0365,\n",
       "                       0.0321, -0.0420, -0.0478,  0.0169,  0.0052, -0.0123,  0.0028, -0.0508,\n",
       "                       0.0368,  0.0398,  0.0222,  0.0441, -0.0342,  0.0463, -0.0187,  0.0403,\n",
       "                       0.0500,  0.0101,  0.0238,  0.0541, -0.0475,  0.0331,  0.0145,  0.0282,\n",
       "                       0.0356, -0.0037, -0.0249,  0.0289, -0.0516,  0.0226, -0.0265,  0.0619,\n",
       "                      -0.0243,  0.0279, -0.0053,  0.0157, -0.0337,  0.0215, -0.0612, -0.0220,\n",
       "                      -0.0107, -0.0174,  0.0031, -0.0186,  0.0465,  0.0300,  0.0507, -0.0178,\n",
       "                       0.0423, -0.0035,  0.0484,  0.0081,  0.0161, -0.0296, -0.0105, -0.0468,\n",
       "                       0.0376, -0.0480, -0.0504,  0.0122, -0.0625,  0.0603, -0.0141, -0.0220,\n",
       "                       0.0235, -0.0256, -0.0162]))])"
      ]
     },
     "execution_count": 5,
     "metadata": {},
     "output_type": "execute_result"
    }
   ],
   "source": [
    "model.state_dict()"
   ]
  },
  {
   "cell_type": "code",
   "execution_count": 6,
   "metadata": {},
   "outputs": [
    {
     "data": {
      "text/plain": [
       "<All keys matched successfully>"
      ]
     },
     "execution_count": 6,
     "metadata": {},
     "output_type": "execute_result"
    }
   ],
   "source": [
    "_state_dict = torch.load(\n",
    "    \"checkpoints/rnn-epoch=02-val_loss=1.75.ckpt\",\n",
    "    map_location=torch.device(\"cpu\"),\n",
    "    weights_only=False\n",
    ")\n",
    "\n",
    "state_dict = {k.replace(\"model.\", \"\"):v for k,v in _state_dict[\"state_dict\"].items()}\n",
    "model.load_state_dict(state_dict)"
   ]
  },
  {
   "cell_type": "code",
   "execution_count": 7,
   "metadata": {},
   "outputs": [],
   "source": [
    "infer = InferenceModule(\n",
    "    tokens, \n",
    "    char2int, \n",
    "    int2char, \n",
    "    model_path=\"checkpoints/rnn-epoch=02-val_loss=1.75.ckpt\"\n",
    ")"
   ]
  },
  {
   "cell_type": "code",
   "execution_count": 11,
   "metadata": {},
   "outputs": [
    {
     "data": {
      "text/plain": [
       "\"The supermanv?;FY`'@RY?h@YF?RYe;``RpYF?RY`'VpYF'Y?RTY?;VpYF'YF?RYeT'eRVFY;VpYF'YF?RYe;TRY;VpYF'nF?RYeT'eRT`Y;VpY`?RY`;ppYF'Y?RTY?RTY`'VR:Y;`n?RYU;`YF'YF?RYg'@RVFY'-YF?RY`;@R:Y;VpY`?h`Y;FY?RTY`;Vp:Y;`YF?RYg;TRY;VpY`;hpYF'Y?RTY`;VpYF'Y?RTY`'VFYF'YF?RYe;TRY;VpYF?RYg'@eT;Fh'V:Y;`YF?RY`'@RF?RTY;VpY`?RY`'mVpYF?;FY?RY?RY?;pY4RRVnF?RYg'@eTR``hVfYF'YF?RneT'VgR``Y'-YF?RY`;@hVf:Y;`YF?;FY?RYU;`YF?RYeT'VRpYF'Y?RTY?;VpYF?RY`;hpYF?;FY?RY?;pnVRF?RTY?RTY?RTY`;hpYF'Y?R;TpYF?RYeT'ehVRYF'YF?RYeT'VgRY;Vpn?RTYF'VpY?h@YF'Y?h@YF'Y?h@Y;VpY`'Y?RTY?;VpYU;`YF'YF'Y?h`Y`;VpY;VpY`?h!!YF'YF'@RY?RTY?RTY?R;p:Y;VpYF?RYg'VVRTYF?RY`;hpY;FYF?RYg'VVRTYF'Y?RTY?;pY4RRpYF'Y?RTY?;Vp:Y;VpY`?RYU;`Y`'Y?RTY?RT:Y;VpY`?h!pYF'Y?h@Y;Y`;VpYF'Y?h@xnn8MF,`YV'FY4mFYF?RY`'@RY?RTY`;VpY;VpY`'Y@'TRY;Y`;hpYF'YF'YF?RYe;TRYF?RY`'@RY?;``RpYF'Y?RTY`'Vp:Y;VpYF?RY`'@RF?hVfY;VpYF?;FYF?RY`'@RYF?RYg'VpRT`R;TY;FYF?RY`;@RYF'Y?RTY?RTY`'VpRTY;VpYF?RYe;TFhVf:Y;VpYF'YF?RYeT'VRpYF'YF?RYg;TRY'-Y?RT:Y;VpnF?RYe;`FRTY;VpYF?RYeTh`Fh'VY;VpnF'YF'Y?RTY?R;TpYF?;FYF?RYg'mTFY;Vpn`?R\""
      ]
     },
     "execution_count": 11,
     "metadata": {},
     "output_type": "execute_result"
    }
   ],
   "source": [
    "infer.generate(1000, prime=\"The superman\", top_k=2)"
   ]
  },
  {
   "cell_type": "code",
   "execution_count": null,
   "metadata": {},
   "outputs": [],
   "source": []
  }
 ],
 "metadata": {
  "kernelspec": {
   "display_name": "text",
   "language": "python",
   "name": "python3"
  },
  "language_info": {
   "codemirror_mode": {
    "name": "ipython",
    "version": 3
   },
   "file_extension": ".py",
   "mimetype": "text/x-python",
   "name": "python",
   "nbconvert_exporter": "python",
   "pygments_lexer": "ipython3",
   "version": "3.10.15"
  }
 },
 "nbformat": 4,
 "nbformat_minor": 2
}
